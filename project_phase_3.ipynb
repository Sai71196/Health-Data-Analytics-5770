{
 "cells": [
  {
   "cell_type": "code",
   "execution_count": 1,
   "id": "766b103f-75c9-4ee9-8250-b4b9a6b81d6e",
   "metadata": {},
   "outputs": [],
   "source": [
    "import pandas as pd\n",
    "import numpy as np\n",
    "import warnings\n",
    "warnings.filterwarnings(\"ignore\")"
   ]
  },
  {
   "cell_type": "code",
   "execution_count": 2,
   "id": "fb6cd714-d7e2-48c7-a6e7-73c2d7fd72cc",
   "metadata": {},
   "outputs": [
    {
     "data": {
      "text/html": [
       "<div>\n",
       "<style scoped>\n",
       "    .dataframe tbody tr th:only-of-type {\n",
       "        vertical-align: middle;\n",
       "    }\n",
       "\n",
       "    .dataframe tbody tr th {\n",
       "        vertical-align: top;\n",
       "    }\n",
       "\n",
       "    .dataframe thead th {\n",
       "        text-align: right;\n",
       "    }\n",
       "</style>\n",
       "<table border=\"1\" class=\"dataframe\">\n",
       "  <thead>\n",
       "    <tr style=\"text-align: right;\">\n",
       "      <th></th>\n",
       "      <th>DUPERSID</th>\n",
       "      <th>SEX</th>\n",
       "      <th>RACETHX</th>\n",
       "      <th>HIBPDX</th>\n",
       "      <th>HIBPAGED</th>\n",
       "      <th>BPMLDX</th>\n",
       "      <th>CHDDX</th>\n",
       "      <th>CHOLDX</th>\n",
       "      <th>STRKDX</th>\n",
       "      <th>EMPST31</th>\n",
       "      <th>MNHLTH31</th>\n",
       "      <th>ACTLIM31</th>\n",
       "      <th>DIABDX_M18</th>\n",
       "      <th>MIDX</th>\n",
       "      <th>FAMINC19</th>\n",
       "      <th>INSCOV19</th>\n",
       "      <th>RXNUM</th>\n",
       "      <th>OBDRV19</th>\n",
       "      <th>PERWT19F</th>\n",
       "      <th>TOTTCH19</th>\n",
       "    </tr>\n",
       "  </thead>\n",
       "  <tbody>\n",
       "    <tr>\n",
       "      <th>0</th>\n",
       "      <td>2320005102</td>\n",
       "      <td>1</td>\n",
       "      <td>2</td>\n",
       "      <td>1</td>\n",
       "      <td>71.0</td>\n",
       "      <td>1</td>\n",
       "      <td>2</td>\n",
       "      <td>2</td>\n",
       "      <td>1</td>\n",
       "      <td>4.0</td>\n",
       "      <td>4</td>\n",
       "      <td>2</td>\n",
       "      <td>2</td>\n",
       "      <td>2</td>\n",
       "      <td>0.0</td>\n",
       "      <td>2</td>\n",
       "      <td>2</td>\n",
       "      <td>1</td>\n",
       "      <td>5356.640305</td>\n",
       "      <td>489</td>\n",
       "    </tr>\n",
       "    <tr>\n",
       "      <th>1</th>\n",
       "      <td>2320012102</td>\n",
       "      <td>2</td>\n",
       "      <td>2</td>\n",
       "      <td>1</td>\n",
       "      <td>65.0</td>\n",
       "      <td>1</td>\n",
       "      <td>2</td>\n",
       "      <td>1</td>\n",
       "      <td>2</td>\n",
       "      <td>4.0</td>\n",
       "      <td>1</td>\n",
       "      <td>2</td>\n",
       "      <td>1</td>\n",
       "      <td>2</td>\n",
       "      <td>87411.0</td>\n",
       "      <td>2</td>\n",
       "      <td>3</td>\n",
       "      <td>4</td>\n",
       "      <td>2196.551655</td>\n",
       "      <td>8427</td>\n",
       "    </tr>\n",
       "    <tr>\n",
       "      <th>2</th>\n",
       "      <td>2320019104</td>\n",
       "      <td>1</td>\n",
       "      <td>1</td>\n",
       "      <td>1</td>\n",
       "      <td>39.0</td>\n",
       "      <td>1</td>\n",
       "      <td>2</td>\n",
       "      <td>2</td>\n",
       "      <td>2</td>\n",
       "      <td>1.0</td>\n",
       "      <td>1</td>\n",
       "      <td>2</td>\n",
       "      <td>1</td>\n",
       "      <td>2</td>\n",
       "      <td>121260.0</td>\n",
       "      <td>1</td>\n",
       "      <td>2</td>\n",
       "      <td>15</td>\n",
       "      <td>5040.383330</td>\n",
       "      <td>85889</td>\n",
       "    </tr>\n",
       "    <tr>\n",
       "      <th>3</th>\n",
       "      <td>2320025101</td>\n",
       "      <td>2</td>\n",
       "      <td>2</td>\n",
       "      <td>1</td>\n",
       "      <td>85.0</td>\n",
       "      <td>1</td>\n",
       "      <td>2</td>\n",
       "      <td>2</td>\n",
       "      <td>2</td>\n",
       "      <td>4.0</td>\n",
       "      <td>4</td>\n",
       "      <td>1</td>\n",
       "      <td>2</td>\n",
       "      <td>2</td>\n",
       "      <td>34260.0</td>\n",
       "      <td>1</td>\n",
       "      <td>6</td>\n",
       "      <td>5</td>\n",
       "      <td>8634.920459</td>\n",
       "      <td>201964</td>\n",
       "    </tr>\n",
       "    <tr>\n",
       "      <th>4</th>\n",
       "      <td>2320029101</td>\n",
       "      <td>2</td>\n",
       "      <td>2</td>\n",
       "      <td>1</td>\n",
       "      <td>85.0</td>\n",
       "      <td>1</td>\n",
       "      <td>2</td>\n",
       "      <td>1</td>\n",
       "      <td>2</td>\n",
       "      <td>4.0</td>\n",
       "      <td>3</td>\n",
       "      <td>2</td>\n",
       "      <td>2</td>\n",
       "      <td>2</td>\n",
       "      <td>54585.0</td>\n",
       "      <td>1</td>\n",
       "      <td>6</td>\n",
       "      <td>6</td>\n",
       "      <td>9977.292468</td>\n",
       "      <td>44709</td>\n",
       "    </tr>\n",
       "    <tr>\n",
       "      <th>5</th>\n",
       "      <td>2320032101</td>\n",
       "      <td>1</td>\n",
       "      <td>3</td>\n",
       "      <td>1</td>\n",
       "      <td>37.0</td>\n",
       "      <td>1</td>\n",
       "      <td>2</td>\n",
       "      <td>2</td>\n",
       "      <td>2</td>\n",
       "      <td>1.0</td>\n",
       "      <td>3</td>\n",
       "      <td>2</td>\n",
       "      <td>2</td>\n",
       "      <td>2</td>\n",
       "      <td>115991.0</td>\n",
       "      <td>1</td>\n",
       "      <td>3</td>\n",
       "      <td>2</td>\n",
       "      <td>6739.858963</td>\n",
       "      <td>691</td>\n",
       "    </tr>\n",
       "    <tr>\n",
       "      <th>6</th>\n",
       "      <td>2320035103</td>\n",
       "      <td>2</td>\n",
       "      <td>1</td>\n",
       "      <td>1</td>\n",
       "      <td>38.0</td>\n",
       "      <td>1</td>\n",
       "      <td>2</td>\n",
       "      <td>2</td>\n",
       "      <td>2</td>\n",
       "      <td>4.0</td>\n",
       "      <td>5</td>\n",
       "      <td>1</td>\n",
       "      <td>2</td>\n",
       "      <td>2</td>\n",
       "      <td>46240.0</td>\n",
       "      <td>2</td>\n",
       "      <td>1</td>\n",
       "      <td>47</td>\n",
       "      <td>0.000000</td>\n",
       "      <td>47781</td>\n",
       "    </tr>\n",
       "    <tr>\n",
       "      <th>7</th>\n",
       "      <td>2320038101</td>\n",
       "      <td>1</td>\n",
       "      <td>2</td>\n",
       "      <td>1</td>\n",
       "      <td>55.0</td>\n",
       "      <td>1</td>\n",
       "      <td>1</td>\n",
       "      <td>1</td>\n",
       "      <td>2</td>\n",
       "      <td>1.0</td>\n",
       "      <td>2</td>\n",
       "      <td>2</td>\n",
       "      <td>2</td>\n",
       "      <td>2</td>\n",
       "      <td>226327.0</td>\n",
       "      <td>1</td>\n",
       "      <td>1</td>\n",
       "      <td>0</td>\n",
       "      <td>11337.349880</td>\n",
       "      <td>48578</td>\n",
       "    </tr>\n",
       "    <tr>\n",
       "      <th>8</th>\n",
       "      <td>2320044101</td>\n",
       "      <td>2</td>\n",
       "      <td>2</td>\n",
       "      <td>1</td>\n",
       "      <td>70.0</td>\n",
       "      <td>1</td>\n",
       "      <td>1</td>\n",
       "      <td>2</td>\n",
       "      <td>2</td>\n",
       "      <td>4.0</td>\n",
       "      <td>3</td>\n",
       "      <td>1</td>\n",
       "      <td>2</td>\n",
       "      <td>2</td>\n",
       "      <td>46883.0</td>\n",
       "      <td>2</td>\n",
       "      <td>4</td>\n",
       "      <td>18</td>\n",
       "      <td>12098.869950</td>\n",
       "      <td>83949</td>\n",
       "    </tr>\n",
       "    <tr>\n",
       "      <th>9</th>\n",
       "      <td>2320049101</td>\n",
       "      <td>1</td>\n",
       "      <td>2</td>\n",
       "      <td>1</td>\n",
       "      <td>25.0</td>\n",
       "      <td>1</td>\n",
       "      <td>2</td>\n",
       "      <td>2</td>\n",
       "      <td>2</td>\n",
       "      <td>1.0</td>\n",
       "      <td>1</td>\n",
       "      <td>2</td>\n",
       "      <td>2</td>\n",
       "      <td>2</td>\n",
       "      <td>108597.0</td>\n",
       "      <td>1</td>\n",
       "      <td>3</td>\n",
       "      <td>6</td>\n",
       "      <td>14170.566100</td>\n",
       "      <td>11659</td>\n",
       "    </tr>\n",
       "    <tr>\n",
       "      <th>10</th>\n",
       "      <td>2320049103</td>\n",
       "      <td>1</td>\n",
       "      <td>2</td>\n",
       "      <td>1</td>\n",
       "      <td>56.0</td>\n",
       "      <td>1</td>\n",
       "      <td>2</td>\n",
       "      <td>1</td>\n",
       "      <td>1</td>\n",
       "      <td>4.0</td>\n",
       "      <td>5</td>\n",
       "      <td>1</td>\n",
       "      <td>2</td>\n",
       "      <td>1</td>\n",
       "      <td>108597.0</td>\n",
       "      <td>2</td>\n",
       "      <td>6</td>\n",
       "      <td>6</td>\n",
       "      <td>22780.196510</td>\n",
       "      <td>1280</td>\n",
       "    </tr>\n",
       "    <tr>\n",
       "      <th>11</th>\n",
       "      <td>2320053101</td>\n",
       "      <td>1</td>\n",
       "      <td>1</td>\n",
       "      <td>1</td>\n",
       "      <td>48.0</td>\n",
       "      <td>1</td>\n",
       "      <td>2</td>\n",
       "      <td>1</td>\n",
       "      <td>2</td>\n",
       "      <td>4.0</td>\n",
       "      <td>3</td>\n",
       "      <td>1</td>\n",
       "      <td>2</td>\n",
       "      <td>2</td>\n",
       "      <td>11347.0</td>\n",
       "      <td>2</td>\n",
       "      <td>5</td>\n",
       "      <td>3</td>\n",
       "      <td>8973.675531</td>\n",
       "      <td>11962</td>\n",
       "    </tr>\n",
       "    <tr>\n",
       "      <th>12</th>\n",
       "      <td>2320076101</td>\n",
       "      <td>2</td>\n",
       "      <td>2</td>\n",
       "      <td>1</td>\n",
       "      <td>30.0</td>\n",
       "      <td>1</td>\n",
       "      <td>2</td>\n",
       "      <td>2</td>\n",
       "      <td>2</td>\n",
       "      <td>4.0</td>\n",
       "      <td>2</td>\n",
       "      <td>2</td>\n",
       "      <td>2</td>\n",
       "      <td>2</td>\n",
       "      <td>98547.0</td>\n",
       "      <td>1</td>\n",
       "      <td>6</td>\n",
       "      <td>4</td>\n",
       "      <td>15840.164270</td>\n",
       "      <td>8401</td>\n",
       "    </tr>\n",
       "    <tr>\n",
       "      <th>13</th>\n",
       "      <td>2320076102</td>\n",
       "      <td>1</td>\n",
       "      <td>2</td>\n",
       "      <td>1</td>\n",
       "      <td>58.0</td>\n",
       "      <td>1</td>\n",
       "      <td>2</td>\n",
       "      <td>1</td>\n",
       "      <td>2</td>\n",
       "      <td>4.0</td>\n",
       "      <td>2</td>\n",
       "      <td>2</td>\n",
       "      <td>2</td>\n",
       "      <td>2</td>\n",
       "      <td>98547.0</td>\n",
       "      <td>1</td>\n",
       "      <td>3</td>\n",
       "      <td>7</td>\n",
       "      <td>12665.130240</td>\n",
       "      <td>22428</td>\n",
       "    </tr>\n",
       "    <tr>\n",
       "      <th>14</th>\n",
       "      <td>2320080101</td>\n",
       "      <td>2</td>\n",
       "      <td>2</td>\n",
       "      <td>1</td>\n",
       "      <td>50.0</td>\n",
       "      <td>1</td>\n",
       "      <td>2</td>\n",
       "      <td>1</td>\n",
       "      <td>2</td>\n",
       "      <td>1.0</td>\n",
       "      <td>1</td>\n",
       "      <td>2</td>\n",
       "      <td>1</td>\n",
       "      <td>2</td>\n",
       "      <td>64963.0</td>\n",
       "      <td>2</td>\n",
       "      <td>2</td>\n",
       "      <td>2</td>\n",
       "      <td>14781.795800</td>\n",
       "      <td>1992</td>\n",
       "    </tr>\n",
       "  </tbody>\n",
       "</table>\n",
       "</div>"
      ],
      "text/plain": [
       "      DUPERSID  SEX  RACETHX  HIBPDX  HIBPAGED  BPMLDX  CHDDX  CHOLDX  STRKDX  \\\n",
       "0   2320005102    1        2       1      71.0       1      2       2       1   \n",
       "1   2320012102    2        2       1      65.0       1      2       1       2   \n",
       "2   2320019104    1        1       1      39.0       1      2       2       2   \n",
       "3   2320025101    2        2       1      85.0       1      2       2       2   \n",
       "4   2320029101    2        2       1      85.0       1      2       1       2   \n",
       "5   2320032101    1        3       1      37.0       1      2       2       2   \n",
       "6   2320035103    2        1       1      38.0       1      2       2       2   \n",
       "7   2320038101    1        2       1      55.0       1      1       1       2   \n",
       "8   2320044101    2        2       1      70.0       1      1       2       2   \n",
       "9   2320049101    1        2       1      25.0       1      2       2       2   \n",
       "10  2320049103    1        2       1      56.0       1      2       1       1   \n",
       "11  2320053101    1        1       1      48.0       1      2       1       2   \n",
       "12  2320076101    2        2       1      30.0       1      2       2       2   \n",
       "13  2320076102    1        2       1      58.0       1      2       1       2   \n",
       "14  2320080101    2        2       1      50.0       1      2       1       2   \n",
       "\n",
       "    EMPST31  MNHLTH31  ACTLIM31  DIABDX_M18  MIDX  FAMINC19  INSCOV19  RXNUM  \\\n",
       "0       4.0         4         2           2     2       0.0         2      2   \n",
       "1       4.0         1         2           1     2   87411.0         2      3   \n",
       "2       1.0         1         2           1     2  121260.0         1      2   \n",
       "3       4.0         4         1           2     2   34260.0         1      6   \n",
       "4       4.0         3         2           2     2   54585.0         1      6   \n",
       "5       1.0         3         2           2     2  115991.0         1      3   \n",
       "6       4.0         5         1           2     2   46240.0         2      1   \n",
       "7       1.0         2         2           2     2  226327.0         1      1   \n",
       "8       4.0         3         1           2     2   46883.0         2      4   \n",
       "9       1.0         1         2           2     2  108597.0         1      3   \n",
       "10      4.0         5         1           2     1  108597.0         2      6   \n",
       "11      4.0         3         1           2     2   11347.0         2      5   \n",
       "12      4.0         2         2           2     2   98547.0         1      6   \n",
       "13      4.0         2         2           2     2   98547.0         1      3   \n",
       "14      1.0         1         2           1     2   64963.0         2      2   \n",
       "\n",
       "    OBDRV19      PERWT19F  TOTTCH19  \n",
       "0         1   5356.640305       489  \n",
       "1         4   2196.551655      8427  \n",
       "2        15   5040.383330     85889  \n",
       "3         5   8634.920459    201964  \n",
       "4         6   9977.292468     44709  \n",
       "5         2   6739.858963       691  \n",
       "6        47      0.000000     47781  \n",
       "7         0  11337.349880     48578  \n",
       "8        18  12098.869950     83949  \n",
       "9         6  14170.566100     11659  \n",
       "10        6  22780.196510      1280  \n",
       "11        3   8973.675531     11962  \n",
       "12        4  15840.164270      8401  \n",
       "13        7  12665.130240     22428  \n",
       "14        2  14781.795800      1992  "
      ]
     },
     "execution_count": 2,
     "metadata": {},
     "output_type": "execute_result"
    }
   ],
   "source": [
    "# Load the dataset from a CSV file\n",
    "hyper_tension_df = pd.read_csv(\"hyper_tension_processed.csv\")\n",
    "\n",
    "# Display the first 15 rows of the DataFrame to inspect the data\n",
    "hyper_tension_df.head(15)"
   ]
  },
  {
   "cell_type": "code",
   "execution_count": 3,
   "id": "afcc4340-5d55-4e97-a898-cce4749d990a",
   "metadata": {},
   "outputs": [
    {
     "name": "stdout",
     "output_type": "stream",
     "text": [
      "(5341, 20)\n"
     ]
    }
   ],
   "source": [
    "print(hyper_tension_df.shape) ## show the number of rows and columns"
   ]
  },
  {
   "cell_type": "code",
   "execution_count": 4,
   "id": "ff9f932d-7a1d-4cb8-bc03-28fb8a2ce61f",
   "metadata": {},
   "outputs": [
    {
     "data": {
      "text/plain": [
       "HIBPDX\n",
       "1    5308\n",
       "2      33\n",
       "Name: count, dtype: int64"
      ]
     },
     "execution_count": 4,
     "metadata": {},
     "output_type": "execute_result"
    }
   ],
   "source": [
    "## 1 indicates Yes, 2 indicates No, and -1 indicates Inapplicable.\n",
    "\n",
    "hyper_tension_df[\"HIBPDX\"].value_counts()"
   ]
  },
  {
   "cell_type": "code",
   "execution_count": 5,
   "id": "8198b1e9-978f-43e9-99cc-afa4af3abfc5",
   "metadata": {},
   "outputs": [
    {
     "name": "stdout",
     "output_type": "stream",
     "text": [
      "0       True\n",
      "1       True\n",
      "2       True\n",
      "3       True\n",
      "4       True\n",
      "        ... \n",
      "5336    True\n",
      "5337    True\n",
      "5338    True\n",
      "5339    True\n",
      "5340    True\n",
      "Name: HIBPDX, Length: 5341, dtype: bool\n"
     ]
    }
   ],
   "source": [
    "## Create a mask, which is a sequence of boolean values (True or False). \n",
    "## True indicates that each row (or column) meets the specified condition.\n",
    "## False indicates that each row (or column) do not meets the specified condition.\n",
    "\n",
    "print(hyper_tension_df[\"HIBPDX\"] == 1)"
   ]
  },
  {
   "cell_type": "code",
   "execution_count": 6,
   "id": "0fb71a81-d7b0-4c00-8b06-d574806d50bf",
   "metadata": {},
   "outputs": [],
   "source": [
    "hyper_tension_yes_mask = ( hyper_tension_df[\"HIBPDX\"] == 1 )"
   ]
  },
  {
   "cell_type": "code",
   "execution_count": 7,
   "id": "9ac55923-738a-4de4-bb9d-f4a0b517d167",
   "metadata": {},
   "outputs": [
    {
     "data": {
      "text/html": [
       "<div>\n",
       "<style scoped>\n",
       "    .dataframe tbody tr th:only-of-type {\n",
       "        vertical-align: middle;\n",
       "    }\n",
       "\n",
       "    .dataframe tbody tr th {\n",
       "        vertical-align: top;\n",
       "    }\n",
       "\n",
       "    .dataframe thead th {\n",
       "        text-align: right;\n",
       "    }\n",
       "</style>\n",
       "<table border=\"1\" class=\"dataframe\">\n",
       "  <thead>\n",
       "    <tr style=\"text-align: right;\">\n",
       "      <th></th>\n",
       "      <th>DUPERSID</th>\n",
       "      <th>SEX</th>\n",
       "      <th>RACETHX</th>\n",
       "      <th>HIBPDX</th>\n",
       "      <th>HIBPAGED</th>\n",
       "      <th>BPMLDX</th>\n",
       "      <th>CHDDX</th>\n",
       "      <th>CHOLDX</th>\n",
       "      <th>STRKDX</th>\n",
       "      <th>EMPST31</th>\n",
       "      <th>MNHLTH31</th>\n",
       "      <th>ACTLIM31</th>\n",
       "      <th>DIABDX_M18</th>\n",
       "      <th>MIDX</th>\n",
       "      <th>FAMINC19</th>\n",
       "      <th>INSCOV19</th>\n",
       "      <th>RXNUM</th>\n",
       "      <th>OBDRV19</th>\n",
       "      <th>PERWT19F</th>\n",
       "      <th>TOTTCH19</th>\n",
       "    </tr>\n",
       "  </thead>\n",
       "  <tbody>\n",
       "    <tr>\n",
       "      <th>0</th>\n",
       "      <td>2320005102</td>\n",
       "      <td>1</td>\n",
       "      <td>2</td>\n",
       "      <td>1</td>\n",
       "      <td>71.0</td>\n",
       "      <td>1</td>\n",
       "      <td>2</td>\n",
       "      <td>2</td>\n",
       "      <td>1</td>\n",
       "      <td>4.0</td>\n",
       "      <td>4</td>\n",
       "      <td>2</td>\n",
       "      <td>2</td>\n",
       "      <td>2</td>\n",
       "      <td>0.0</td>\n",
       "      <td>2</td>\n",
       "      <td>2</td>\n",
       "      <td>1</td>\n",
       "      <td>5356.640305</td>\n",
       "      <td>489</td>\n",
       "    </tr>\n",
       "    <tr>\n",
       "      <th>1</th>\n",
       "      <td>2320012102</td>\n",
       "      <td>2</td>\n",
       "      <td>2</td>\n",
       "      <td>1</td>\n",
       "      <td>65.0</td>\n",
       "      <td>1</td>\n",
       "      <td>2</td>\n",
       "      <td>1</td>\n",
       "      <td>2</td>\n",
       "      <td>4.0</td>\n",
       "      <td>1</td>\n",
       "      <td>2</td>\n",
       "      <td>1</td>\n",
       "      <td>2</td>\n",
       "      <td>87411.0</td>\n",
       "      <td>2</td>\n",
       "      <td>3</td>\n",
       "      <td>4</td>\n",
       "      <td>2196.551655</td>\n",
       "      <td>8427</td>\n",
       "    </tr>\n",
       "    <tr>\n",
       "      <th>2</th>\n",
       "      <td>2320019104</td>\n",
       "      <td>1</td>\n",
       "      <td>1</td>\n",
       "      <td>1</td>\n",
       "      <td>39.0</td>\n",
       "      <td>1</td>\n",
       "      <td>2</td>\n",
       "      <td>2</td>\n",
       "      <td>2</td>\n",
       "      <td>1.0</td>\n",
       "      <td>1</td>\n",
       "      <td>2</td>\n",
       "      <td>1</td>\n",
       "      <td>2</td>\n",
       "      <td>121260.0</td>\n",
       "      <td>1</td>\n",
       "      <td>2</td>\n",
       "      <td>15</td>\n",
       "      <td>5040.383330</td>\n",
       "      <td>85889</td>\n",
       "    </tr>\n",
       "    <tr>\n",
       "      <th>3</th>\n",
       "      <td>2320025101</td>\n",
       "      <td>2</td>\n",
       "      <td>2</td>\n",
       "      <td>1</td>\n",
       "      <td>85.0</td>\n",
       "      <td>1</td>\n",
       "      <td>2</td>\n",
       "      <td>2</td>\n",
       "      <td>2</td>\n",
       "      <td>4.0</td>\n",
       "      <td>4</td>\n",
       "      <td>1</td>\n",
       "      <td>2</td>\n",
       "      <td>2</td>\n",
       "      <td>34260.0</td>\n",
       "      <td>1</td>\n",
       "      <td>6</td>\n",
       "      <td>5</td>\n",
       "      <td>8634.920459</td>\n",
       "      <td>201964</td>\n",
       "    </tr>\n",
       "    <tr>\n",
       "      <th>4</th>\n",
       "      <td>2320029101</td>\n",
       "      <td>2</td>\n",
       "      <td>2</td>\n",
       "      <td>1</td>\n",
       "      <td>85.0</td>\n",
       "      <td>1</td>\n",
       "      <td>2</td>\n",
       "      <td>1</td>\n",
       "      <td>2</td>\n",
       "      <td>4.0</td>\n",
       "      <td>3</td>\n",
       "      <td>2</td>\n",
       "      <td>2</td>\n",
       "      <td>2</td>\n",
       "      <td>54585.0</td>\n",
       "      <td>1</td>\n",
       "      <td>6</td>\n",
       "      <td>6</td>\n",
       "      <td>9977.292468</td>\n",
       "      <td>44709</td>\n",
       "    </tr>\n",
       "  </tbody>\n",
       "</table>\n",
       "</div>"
      ],
      "text/plain": [
       "     DUPERSID  SEX  RACETHX  HIBPDX  HIBPAGED  BPMLDX  CHDDX  CHOLDX  STRKDX  \\\n",
       "0  2320005102    1        2       1      71.0       1      2       2       1   \n",
       "1  2320012102    2        2       1      65.0       1      2       1       2   \n",
       "2  2320019104    1        1       1      39.0       1      2       2       2   \n",
       "3  2320025101    2        2       1      85.0       1      2       2       2   \n",
       "4  2320029101    2        2       1      85.0       1      2       1       2   \n",
       "\n",
       "   EMPST31  MNHLTH31  ACTLIM31  DIABDX_M18  MIDX  FAMINC19  INSCOV19  RXNUM  \\\n",
       "0      4.0         4         2           2     2       0.0         2      2   \n",
       "1      4.0         1         2           1     2   87411.0         2      3   \n",
       "2      1.0         1         2           1     2  121260.0         1      2   \n",
       "3      4.0         4         1           2     2   34260.0         1      6   \n",
       "4      4.0         3         2           2     2   54585.0         1      6   \n",
       "\n",
       "   OBDRV19     PERWT19F  TOTTCH19  \n",
       "0        1  5356.640305       489  \n",
       "1        4  2196.551655      8427  \n",
       "2       15  5040.383330     85889  \n",
       "3        5  8634.920459    201964  \n",
       "4        6  9977.292468     44709  "
      ]
     },
     "execution_count": 7,
     "metadata": {},
     "output_type": "execute_result"
    }
   ],
   "source": [
    "# The next is to create subsets of samples having hypertension or not\n",
    "hyper_tension = hyper_tension_df[hyper_tension_yes_mask]\n",
    "hyper_tension.head()"
   ]
  },
  {
   "cell_type": "code",
   "execution_count": 8,
   "id": "45ebf5b4-1cb9-49ea-98b4-6d5ad8ae1efd",
   "metadata": {},
   "outputs": [
    {
     "data": {
      "text/html": [
       "<div>\n",
       "<style scoped>\n",
       "    .dataframe tbody tr th:only-of-type {\n",
       "        vertical-align: middle;\n",
       "    }\n",
       "\n",
       "    .dataframe tbody tr th {\n",
       "        vertical-align: top;\n",
       "    }\n",
       "\n",
       "    .dataframe thead th {\n",
       "        text-align: right;\n",
       "    }\n",
       "</style>\n",
       "<table border=\"1\" class=\"dataframe\">\n",
       "  <thead>\n",
       "    <tr style=\"text-align: right;\">\n",
       "      <th></th>\n",
       "      <th>DUPERSID</th>\n",
       "      <th>SEX</th>\n",
       "      <th>RACETHX</th>\n",
       "      <th>HIBPDX</th>\n",
       "      <th>HIBPAGED</th>\n",
       "      <th>BPMLDX</th>\n",
       "      <th>CHDDX</th>\n",
       "      <th>CHOLDX</th>\n",
       "      <th>STRKDX</th>\n",
       "      <th>EMPST31</th>\n",
       "      <th>MNHLTH31</th>\n",
       "      <th>ACTLIM31</th>\n",
       "      <th>DIABDX_M18</th>\n",
       "      <th>MIDX</th>\n",
       "      <th>FAMINC19</th>\n",
       "      <th>INSCOV19</th>\n",
       "      <th>RXNUM</th>\n",
       "      <th>OBDRV19</th>\n",
       "      <th>PERWT19F</th>\n",
       "      <th>TOTTCH19</th>\n",
       "    </tr>\n",
       "  </thead>\n",
       "  <tbody>\n",
       "    <tr>\n",
       "      <th>340</th>\n",
       "      <td>2321331102</td>\n",
       "      <td>2</td>\n",
       "      <td>2</td>\n",
       "      <td>2</td>\n",
       "      <td>48.469854</td>\n",
       "      <td>1</td>\n",
       "      <td>2</td>\n",
       "      <td>2</td>\n",
       "      <td>2</td>\n",
       "      <td>1.0</td>\n",
       "      <td>1</td>\n",
       "      <td>2</td>\n",
       "      <td>2</td>\n",
       "      <td>2</td>\n",
       "      <td>213990.0</td>\n",
       "      <td>1</td>\n",
       "      <td>0</td>\n",
       "      <td>0</td>\n",
       "      <td>34159.086420</td>\n",
       "      <td>765</td>\n",
       "    </tr>\n",
       "    <tr>\n",
       "      <th>554</th>\n",
       "      <td>2322245101</td>\n",
       "      <td>2</td>\n",
       "      <td>1</td>\n",
       "      <td>2</td>\n",
       "      <td>48.469854</td>\n",
       "      <td>1</td>\n",
       "      <td>2</td>\n",
       "      <td>2</td>\n",
       "      <td>2</td>\n",
       "      <td>1.0</td>\n",
       "      <td>2</td>\n",
       "      <td>2</td>\n",
       "      <td>2</td>\n",
       "      <td>2</td>\n",
       "      <td>15000.0</td>\n",
       "      <td>2</td>\n",
       "      <td>1</td>\n",
       "      <td>0</td>\n",
       "      <td>13062.603100</td>\n",
       "      <td>0</td>\n",
       "    </tr>\n",
       "    <tr>\n",
       "      <th>600</th>\n",
       "      <td>2322432101</td>\n",
       "      <td>1</td>\n",
       "      <td>2</td>\n",
       "      <td>2</td>\n",
       "      <td>48.469854</td>\n",
       "      <td>1</td>\n",
       "      <td>2</td>\n",
       "      <td>2</td>\n",
       "      <td>2</td>\n",
       "      <td>4.0</td>\n",
       "      <td>1</td>\n",
       "      <td>1</td>\n",
       "      <td>2</td>\n",
       "      <td>2</td>\n",
       "      <td>38905.0</td>\n",
       "      <td>2</td>\n",
       "      <td>0</td>\n",
       "      <td>0</td>\n",
       "      <td>11076.964520</td>\n",
       "      <td>365</td>\n",
       "    </tr>\n",
       "    <tr>\n",
       "      <th>1048</th>\n",
       "      <td>2324124106</td>\n",
       "      <td>2</td>\n",
       "      <td>2</td>\n",
       "      <td>2</td>\n",
       "      <td>48.469854</td>\n",
       "      <td>1</td>\n",
       "      <td>2</td>\n",
       "      <td>2</td>\n",
       "      <td>2</td>\n",
       "      <td>4.0</td>\n",
       "      <td>2</td>\n",
       "      <td>2</td>\n",
       "      <td>2</td>\n",
       "      <td>2</td>\n",
       "      <td>116771.0</td>\n",
       "      <td>2</td>\n",
       "      <td>2</td>\n",
       "      <td>0</td>\n",
       "      <td>20065.236880</td>\n",
       "      <td>606</td>\n",
       "    </tr>\n",
       "    <tr>\n",
       "      <th>1111</th>\n",
       "      <td>2324366102</td>\n",
       "      <td>1</td>\n",
       "      <td>1</td>\n",
       "      <td>2</td>\n",
       "      <td>48.469854</td>\n",
       "      <td>1</td>\n",
       "      <td>2</td>\n",
       "      <td>2</td>\n",
       "      <td>2</td>\n",
       "      <td>1.0</td>\n",
       "      <td>3</td>\n",
       "      <td>2</td>\n",
       "      <td>2</td>\n",
       "      <td>2</td>\n",
       "      <td>33000.0</td>\n",
       "      <td>2</td>\n",
       "      <td>4</td>\n",
       "      <td>1</td>\n",
       "      <td>6007.216977</td>\n",
       "      <td>24785</td>\n",
       "    </tr>\n",
       "  </tbody>\n",
       "</table>\n",
       "</div>"
      ],
      "text/plain": [
       "        DUPERSID  SEX  RACETHX  HIBPDX   HIBPAGED  BPMLDX  CHDDX  CHOLDX  \\\n",
       "340   2321331102    2        2       2  48.469854       1      2       2   \n",
       "554   2322245101    2        1       2  48.469854       1      2       2   \n",
       "600   2322432101    1        2       2  48.469854       1      2       2   \n",
       "1048  2324124106    2        2       2  48.469854       1      2       2   \n",
       "1111  2324366102    1        1       2  48.469854       1      2       2   \n",
       "\n",
       "      STRKDX  EMPST31  MNHLTH31  ACTLIM31  DIABDX_M18  MIDX  FAMINC19  \\\n",
       "340        2      1.0         1         2           2     2  213990.0   \n",
       "554        2      1.0         2         2           2     2   15000.0   \n",
       "600        2      4.0         1         1           2     2   38905.0   \n",
       "1048       2      4.0         2         2           2     2  116771.0   \n",
       "1111       2      1.0         3         2           2     2   33000.0   \n",
       "\n",
       "      INSCOV19  RXNUM  OBDRV19      PERWT19F  TOTTCH19  \n",
       "340          1      0        0  34159.086420       765  \n",
       "554          2      1        0  13062.603100         0  \n",
       "600          2      0        0  11076.964520       365  \n",
       "1048         2      2        0  20065.236880       606  \n",
       "1111         2      4        1   6007.216977     24785  "
      ]
     },
     "execution_count": 8,
     "metadata": {},
     "output_type": "execute_result"
    }
   ],
   "source": [
    "hyper_tension_no_mask = ( hyper_tension_df[\"HIBPDX\"] == 2 )\n",
    "# The next is to create subsets of samples as per having hypertension or not\n",
    "no_hyper_tension = hyper_tension_df[hyper_tension_no_mask]\n",
    "no_hyper_tension.head()"
   ]
  },
  {
   "cell_type": "code",
   "execution_count": 49,
   "id": "95a7c32a-6ad0-476a-a1f4-7566bb2111e6",
   "metadata": {},
   "outputs": [
    {
     "name": "stdout",
     "output_type": "stream",
     "text": [
      "        DUPERSID  SEX  RACETHX  HIBPDX  HIBPAGED  BPMLDX  CHDDX  CHOLDX  \\\n",
      "708   2322890101    1        1       1      71.0       1      2       1   \n",
      "4428  2466471102    1        2       1      50.0       1      2       2   \n",
      "4005  2464958101    1        2       1      64.0       1      2       1   \n",
      "4805  2467801102    1        2       1      68.0       1      2       1   \n",
      "5148  2469037101    1        2       1      64.0       1      2       1   \n",
      "\n",
      "      STRKDX  EMPST31  MNHLTH31  ACTLIM31  DIABDX_M18  MIDX  FAMINC19  \\\n",
      "708        1      4.0         4         1           1     2   13632.0   \n",
      "4428       2      1.0         1         2           2     2  237250.0   \n",
      "4005       2      4.0         1         2           2     2  102924.0   \n",
      "4805       2      4.0         4         2           1     1   12084.0   \n",
      "5148       2      4.0         2         2           2     1       0.0   \n",
      "\n",
      "      INSCOV19  RXNUM  OBDRV19      PERWT19F  TOTTCH19  \n",
      "708          2      3       35   1399.837060     33290  \n",
      "4428         1      5        0  24825.292670         0  \n",
      "4005         2      6        4  13009.189350      3963  \n",
      "4805         2      0        4   9284.244864       934  \n",
      "5148         1      1        1  24029.117660      1151  \n",
      "(100, 20)\n"
     ]
    }
   ],
   "source": [
    "## Sample 100 instances for each case\n",
    "\n",
    "sample_with_hyper_tension = hyper_tension.sample(n=100, random_state=1)\n",
    "print(sample_with_hyper_tension.head())\n",
    "print(sample_with_hyper_tension.shape)\n"
   ]
  },
  {
   "cell_type": "code",
   "execution_count": 50,
   "id": "8070aace-6c84-47c8-a2d3-1b8607ffa9e1",
   "metadata": {},
   "outputs": [
    {
     "name": "stdout",
     "output_type": "stream",
     "text": [
      "        DUPERSID  SEX  RACETHX  HIBPDX   HIBPAGED  BPMLDX  CHDDX  CHOLDX  \\\n",
      "1786  2326812101    1        1       2  48.469854       1      2       1   \n",
      "1216  2324744101    1        1       2  48.469854       1      2       2   \n",
      "1260  2324897105    1        1       2  48.469854       1      2       2   \n",
      "1540  2326005101    1        4       2  48.469854       1      2       2   \n",
      "1144  2324522101    1        2       2  48.469854       1      2       2   \n",
      "\n",
      "      STRKDX  EMPST31  MNHLTH31  ACTLIM31  DIABDX_M18  MIDX  FAMINC19  \\\n",
      "1786       2      1.0         2         2           2     2   59000.0   \n",
      "1216       2      4.0         1         2           2     2   58569.0   \n",
      "1260       2      1.0         1         2           2     2   85000.0   \n",
      "1540       2      1.0         3         2           2     2   70400.0   \n",
      "1144       2      1.0         1         2           2     2  156000.0   \n",
      "\n",
      "      INSCOV19  RXNUM  OBDRV19      PERWT19F  TOTTCH19  \n",
      "1786         3      0        0   6252.444291     11053  \n",
      "1216         1      2        1   9147.908489     79814  \n",
      "1260         1      2        1      0.000000       697  \n",
      "1540         2      0        2  14695.067730       579  \n",
      "1144         1      3        4  14271.752710      4287  \n",
      "(100, 20)\n"
     ]
    }
   ],
   "source": [
    "## Sample 100 instances for each case\n",
    "\n",
    "sample_with_no_hyper_tension = no_hyper_tension.sample(n=100, random_state=1, replace=True)\n",
    "print(sample_with_no_hyper_tension.head())\n",
    "print(sample_with_no_hyper_tension.shape)\n"
   ]
  },
  {
   "cell_type": "markdown",
   "id": "3c4890bd-59a5-46cc-a0a4-7223dd942901",
   "metadata": {},
   "source": [
    "# HIBPDX vs TOTTCH19"
   ]
  },
  {
   "cell_type": "code",
   "execution_count": 11,
   "id": "71a01249-e03e-4b9c-8135-230829f95091",
   "metadata": {},
   "outputs": [
    {
     "data": {
      "text/plain": [
       "count       100.000000\n",
       "mean      27708.360000\n",
       "std       52966.339629\n",
       "min           0.000000\n",
       "25%        2337.250000\n",
       "50%        6091.500000\n",
       "75%       35371.000000\n",
       "max      393393.000000\n",
       "Name: TOTTCH19, dtype: float64"
      ]
     },
     "execution_count": 11,
     "metadata": {},
     "output_type": "execute_result"
    }
   ],
   "source": [
    "sample_with_hyper_tension[\"TOTTCH19\"].describe()"
   ]
  },
  {
   "cell_type": "code",
   "execution_count": 12,
   "id": "68274dd2-7a45-4f98-ab6e-2f904f0ff45d",
   "metadata": {},
   "outputs": [
    {
     "name": "stdout",
     "output_type": "stream",
     "text": [
      "Mean 27708.36\n",
      "Median 6091.5\n",
      "Max 393393\n",
      "Min 0\n"
     ]
    }
   ],
   "source": [
    "print(\"Mean\",sample_with_hyper_tension[\"TOTTCH19\"].mean())\n",
    "print(\"Median\",sample_with_hyper_tension[\"TOTTCH19\"].median())\n",
    "print(\"Max\",sample_with_hyper_tension[\"TOTTCH19\"].max())\n",
    "print(\"Min\",sample_with_hyper_tension[\"TOTTCH19\"].min())"
   ]
  },
  {
   "cell_type": "code",
   "execution_count": 13,
   "id": "58f14fef-7ad3-41db-b06f-ffabf472ca37",
   "metadata": {},
   "outputs": [
    {
     "name": "stdout",
     "output_type": "stream",
     "text": [
      "393393\n"
     ]
    }
   ],
   "source": [
    "## calculate range\n",
    "rg = sample_with_hyper_tension[\"TOTTCH19\"].max() - sample_with_hyper_tension[\"TOTTCH19\"].min() \n",
    "print(rg)"
   ]
  },
  {
   "cell_type": "code",
   "execution_count": 14,
   "id": "e3cbe1c3-4fc9-495e-8ada-665cdf088433",
   "metadata": {},
   "outputs": [
    {
     "name": "stdout",
     "output_type": "stream",
     "text": [
      "33033.75\n"
     ]
    }
   ],
   "source": [
    "## calculate interquartile range\n",
    "iqr = sample_with_hyper_tension[\"TOTTCH19\"].quantile(0.75) - sample_with_hyper_tension[\"TOTTCH19\"].quantile(0.25) \n",
    "print(iqr)"
   ]
  },
  {
   "cell_type": "code",
   "execution_count": 15,
   "id": "5ad9b1e6-d3c1-4ed2-99ec-544d3f26c4e3",
   "metadata": {},
   "outputs": [
    {
     "data": {
      "text/plain": [
       "count      100.000000\n",
       "mean      9167.200000\n",
       "std      18277.840857\n",
       "min          0.000000\n",
       "25%        548.000000\n",
       "50%       1613.000000\n",
       "75%       9397.250000\n",
       "max      79814.000000\n",
       "Name: TOTTCH19, dtype: float64"
      ]
     },
     "execution_count": 15,
     "metadata": {},
     "output_type": "execute_result"
    }
   ],
   "source": [
    "sample_with_no_hyper_tension[\"TOTTCH19\"].describe()"
   ]
  },
  {
   "cell_type": "code",
   "execution_count": 16,
   "id": "9f8528cf-26ac-4922-b6b9-a8b1d3a741c7",
   "metadata": {},
   "outputs": [
    {
     "name": "stdout",
     "output_type": "stream",
     "text": [
      "Mean 9167.2\n",
      "Median 1613.0\n",
      "Max 79814\n",
      "Min 0\n"
     ]
    }
   ],
   "source": [
    "print(\"Mean\",sample_with_no_hyper_tension[\"TOTTCH19\"].mean())\n",
    "print(\"Median\",sample_with_no_hyper_tension[\"TOTTCH19\"].median())\n",
    "print(\"Max\",sample_with_no_hyper_tension[\"TOTTCH19\"].max())\n",
    "print(\"Min\",sample_with_no_hyper_tension[\"TOTTCH19\"].min())"
   ]
  },
  {
   "cell_type": "code",
   "execution_count": 17,
   "id": "1c717fba-4a1f-46f5-94b3-d658190ed6ca",
   "metadata": {},
   "outputs": [
    {
     "name": "stdout",
     "output_type": "stream",
     "text": [
      "79814\n"
     ]
    }
   ],
   "source": [
    "## calculate range\n",
    "rg = sample_with_no_hyper_tension[\"TOTTCH19\"].max() - sample_with_no_hyper_tension[\"TOTTCH19\"].min() \n",
    "print(rg)"
   ]
  },
  {
   "cell_type": "code",
   "execution_count": 18,
   "id": "bf696965-b291-4340-8c18-eca6e2e3ad4e",
   "metadata": {},
   "outputs": [
    {
     "name": "stdout",
     "output_type": "stream",
     "text": [
      "8849.25\n"
     ]
    }
   ],
   "source": [
    "## calculate interquartile range\n",
    "iqr = sample_with_no_hyper_tension[\"TOTTCH19\"].quantile(0.75) - sample_with_no_hyper_tension[\"TOTTCH19\"].quantile(0.25) \n",
    "print(iqr)"
   ]
  },
  {
   "cell_type": "code",
   "execution_count": 19,
   "id": "850a6b2a-a7a7-47b7-821a-892634dd2a46",
   "metadata": {},
   "outputs": [
    {
     "data": {
      "image/png": "[encoded data removed]",
      "text/plain": [
       "<Figure size 1200x800 with 1 Axes>"
      ]
     },
     "metadata": {},
     "output_type": "display_data"
    }
   ],
   "source": [
    "# !pip3 install matplotlib\n",
    "# !pip3 install numpy\n",
    "import matplotlib.pyplot as plt\n",
    "import numpy as np\n",
    "#plt.style.use('seaborn-deep')\n",
    "\n",
    "## set the minimum value from two groups\n",
    "if sample_with_hyper_tension[\"TOTTCH19\"].min() < sample_with_no_hyper_tension[\"TOTTCH19\"].min() :\n",
    "    min_val = sample_with_hyper_tension[\"TOTTCH19\"].min() \n",
    "else:\n",
    "    min_val = sample_with_no_hyper_tension[\"TOTTCH19\"].min() \n",
    "\n",
    "## set the maximum value from two groups \n",
    "if sample_with_hyper_tension[\"TOTTCH19\"].max() > sample_with_no_hyper_tension[\"TOTTCH19\"].max() :\n",
    "    max_val = sample_with_hyper_tension[\"TOTTCH19\"].max() \n",
    "else:\n",
    "    max_val = sample_with_no_hyper_tension[\"TOTTCH19\"].max() \n",
    "\n",
    "## set the range and number of bins\n",
    "bins = np.linspace(min_val - 10, max_val + 10, 30)\n",
    "\n",
    "## set data\n",
    "x = sample_with_hyper_tension[\"TOTTCH19\"]\n",
    "y = sample_with_no_hyper_tension[\"TOTTCH19\"]\n",
    "\n",
    "## draw histograms\n",
    "plt.figure(figsize=(12, 8))\n",
    "plt.hist([x, y], bins, label=['HyperTension', 'No HyperTension'])\n",
    "plt.legend(loc='upper right')\n",
    "plt.show()"
   ]
  },
  {
   "cell_type": "code",
   "execution_count": 20,
   "id": "99f007cb-a84c-4d94-bec2-77e517f41a50",
   "metadata": {},
   "outputs": [
    {
     "data": {
      "text/plain": [
       "[Text(1, 0, 'Hypertension'), Text(2, 0, 'No HyperTension')]"
      ]
     },
     "execution_count": 20,
     "metadata": {},
     "output_type": "execute_result"
    },
    {
     "data": {
      "image/png": "[encoded data removed]",
      "text/plain": [
       "<Figure size 1200x800 with 1 Axes>"
      ]
     },
     "metadata": {},
     "output_type": "display_data"
    }
   ],
   "source": [
    "# set data\n",
    "my_dict = {'Hypertension': x, 'No HyperTension': y}\n",
    "\n",
    "from matplotlib import gridspec\n",
    "\n",
    "## draw boxplots\n",
    "fig, ax = plt.subplots(figsize=(12, 8))\n",
    "ax.boxplot(my_dict.values())\n",
    "ax.set_xticklabels(my_dict.keys())"
   ]
  },
  {
   "cell_type": "markdown",
   "id": "6ebe8f03-8a61-489e-8041-c3c5f94d2b87",
   "metadata": {},
   "source": [
    "### Analysis of Total Healthcare Charges for Individuals With and Without Hypertension\n",
    "\n",
    "The data highlights substantial differences in total healthcare charges between individuals diagnosed with hypertension and those without it. Key observations are as follows:\n",
    "\n",
    "---\n",
    "\n",
    "### **1. Higher Central Tendency in the Hypertension Group**\n",
    "- **Mean**: Individuals with hypertension incur significantly higher average healthcare charges (**$27,708.36**) compared to those without hypertension (**$9,167.20**).\n",
    "- **Median**: The median expenditure for the hypertension group is **$6,091.50**, notably higher than the median for the non-hypertension group (**$1,613.00**).\n",
    "  - This indicates that individuals with hypertension not only incur higher average costs but also exhibit higher expenditures at the midpoint of the dataset.\n",
    "\n",
    "---\n",
    "\n",
    "### **2. Wider Expenditure Distribution in the Hypertension Group**\n",
    "- **Interquartile Range (IQR)**: \n",
    "  - The hypertension group has an **IQR of $33,033.75**, reflecting greater variability in expenditures within the middle 50% of the dataset.\n",
    "  - The non-hypertension group has a lower **IQR of $8,849.25**, indicating a narrower range of typical expenditures.\n",
    "- This broader distribution suggests that managing hypertension often involves a more diverse set of healthcare expenses, potentially including hospitalizations, medications, and ongoing treatments.\n",
    "\n",
    "---\n",
    "\n",
    "### **3. Greater Variability in the Hypertension Group**\n",
    "- **Maximum Expenditure**:\n",
    "  - The highest expenditure for individuals with hypertension reaches **$393,393**, significantly higher than the maximum of **$79,814** for the non-hypertension group.\n",
    "- **Minimum Expenditure**:\n",
    "  - Both groups report a minimum expenditure of **$0**, likely reflecting individuals who incurred no healthcare costs during the study period.\n",
    "\n",
    "---\n",
    "\n",
    "### **Conclusion**\n",
    "The data indicates that individuals with hypertension face significantly higher healthcare expenditures compared to those without hypertension. This pattern aligns with the understanding that hypertension often requires ongoing management, frequent medical visits, diagnostic tests, and treatments for associated complications such as cardiovascular diseases or kidney issues. The wider expenditure distribution and higher variability in the hypertension group further reinforce the economic burden associated with this chronic condition.\n",
    "\n",
    "This analysis highlights the importance of preventive measures and efficient management strategies to mitigate the financial strain on individuals with hypertension and the healthcare system."
   ]
  },
  {
   "cell_type": "code",
   "execution_count": 21,
   "id": "f406f0fb-ff58-4ac8-9ca3-d4969d8fe375",
   "metadata": {},
   "outputs": [
    {
     "data": {
      "image/png": "[encoded data removed]",
      "text/plain": [
       "<Figure size 640x480 with 1 Axes>"
      ]
     },
     "metadata": {},
     "output_type": "display_data"
    }
   ],
   "source": [
    "# draw a histogram (hypertension)\n",
    "count, bins, ignored = plt.hist(x, 20, density=True, color=(0.1, 0.1, 0.1, 0.1), edgecolor=\"black\")\n",
    "\n",
    "sigma = x.std()\n",
    "mu = x.mean()\n",
    "\n",
    "## draw a gausian distribution\n",
    "plt.plot(bins, 1/(sigma * np.sqrt(2 * np.pi)) *\n",
    "                np.exp( - (bins - mu)**2 / (2 * sigma**2)),\n",
    "                linewidth=2, color='b')\n",
    "plt.show()"
   ]
  },
  {
   "cell_type": "code",
   "execution_count": 22,
   "id": "16ec2bb2-9dc6-49dc-bedd-9bd50303aff3",
   "metadata": {},
   "outputs": [
    {
     "data": {
      "image/png": "[encoded data removed]",
      "text/plain": [
       "<Figure size 640x480 with 1 Axes>"
      ]
     },
     "metadata": {},
     "output_type": "display_data"
    }
   ],
   "source": [
    "# draw a histogram (no hypertension)\n",
    "count, bins, ignored = plt.hist(y, 20, density=True, color=(0.1, 0.1, 0.1, 0.1), edgecolor=\"black\")\n",
    "\n",
    "sigma = y.std()\n",
    "mu = y.mean()\n",
    "\n",
    "## draw a gausian distribution\n",
    "plt.plot(bins, 1/(sigma * np.sqrt(2 * np.pi)) *\n",
    "                np.exp( - (bins - mu)**2 / (2 * sigma**2)),\n",
    "                linewidth=2, color='b')\n",
    "plt.show()"
   ]
  },
  {
   "cell_type": "code",
   "execution_count": 23,
   "id": "9d8d616e-6b91-4d6c-bf03-112633e686d1",
   "metadata": {},
   "outputs": [
    {
     "name": "stdout",
     "output_type": "stream",
     "text": [
      "Skewness 4.268085326193641\n",
      "Kurtosis 24.167389002536716\n"
     ]
    }
   ],
   "source": [
    "# Sample with hypertension\n",
    "print('Skewness',x.skew())\n",
    "print('Kurtosis',x.kurtosis())"
   ]
  },
  {
   "cell_type": "code",
   "execution_count": 24,
   "id": "dc1dd29d-9d12-45c8-aeb5-911fb226f129",
   "metadata": {},
   "outputs": [
    {
     "name": "stdout",
     "output_type": "stream",
     "text": [
      "Skewness 3.064127527752085\n",
      "Kurtosis 9.120718647948387\n"
     ]
    }
   ],
   "source": [
    "# Sample with no hypertension\n",
    "print('Skewness',y.skew())\n",
    "print('Kurtosis',y.kurtosis())"
   ]
  },
  {
   "cell_type": "markdown",
   "id": "f6837b2a-ac13-4885-85b8-559b595f79eb",
   "metadata": {},
   "source": [
    "### Analysis of Normality for Samples With and Without Hypertension\n",
    "\n",
    "The samples (individuals with and without hypertension) are **not normally distributed**. Here is the rationale:\n",
    "\n",
    "---\n",
    "\n",
    "### **1. Skewness**\n",
    "- **Hypertension Group**:\n",
    "  - Skewness is **4.27**, indicating a significant right skew (positive skew). Normal distributions have a skewness of **0**, and values exceeding **±0.5** demonstrate substantial deviation from normality.\n",
    "- **Non-Hypertension Group**:\n",
    "  - Skewness is **3.06**, which also reflects a strong positive skew, though slightly less severe than the hypertension group.\n",
    "\n",
    "---\n",
    "\n",
    "### **2. Kurtosis**\n",
    "- **Hypertension Group**:\n",
    "  - Kurtosis is **24.17**, indicative of an extremely leptokurtic distribution. This suggests heavy tails and a very sharp peak compared to a normal distribution, which has a kurtosis of **3**.\n",
    "- **Non-Hypertension Group**:\n",
    "  - Kurtosis is **9.12**, also leptokurtic but less extreme than the hypertension group. The high kurtosis still highlights the presence of outliers and a non-normal distribution.\n",
    "\n",
    "---\n",
    "\n",
    "### **3. Visual Evidence **:\n",
    "- The distributions for both groups likely exhibit:\n",
    "  - **Right tails**: A concentration of lower values and a small proportion of higher expenditures extending the tail.\n",
    "  - **Peaks**: A sharp peak around the mode, which is characteristic of leptokurtic distributions.\n",
    "\n",
    "---\n",
    "\n",
    "### **Conclusion**\n",
    "Both samples, with and without hypertension, are **not normally distributed** due to:\n",
    "- High skewness, indicating asymmetry with a concentration of lower values and long right tails.\n",
    "- Excessive kurtosis, revealing heavy tails and sharp peaks deviating from a normal bell curve.\n",
    "\n",
    "The non-normality of the data suggests that parametric tests (e.g., t-tests, ANOVA) may not be appropriate for statistical analysis. Instead, **non-parametric tests** (e.g., Mann-Whitney U test or Kruskal-Wallis test) should be applied to compare these groups. This deviation reflects the economic burden of managing chronic conditions like hypertension, which likely leads to significant outliers in total healthcare expenditures."
   ]
  },
  {
   "cell_type": "markdown",
   "id": "4d000523-72cf-45c6-9845-9621055d2da1",
   "metadata": {},
   "source": [
    "# Mann-Whitney test"
   ]
  },
  {
   "cell_type": "code",
   "execution_count": 25,
   "id": "91a59fa9-abca-4362-a65d-bcb551914644",
   "metadata": {},
   "outputs": [
    {
     "name": "stdout",
     "output_type": "stream",
     "text": [
      "MannwhitneyuResult(statistic=np.float64(6787.5), pvalue=np.float64(1.2593777710996264e-05))\n"
     ]
    }
   ],
   "source": [
    "## We will apply the Mann-Whitney test\n",
    "\n",
    "from scipy.stats import mannwhitneyu\n",
    "\n",
    "\n",
    "print( mannwhitneyu (sample_with_hyper_tension[\"TOTTCH19\"],\n",
    "                  sample_with_no_hyper_tension[\"TOTTCH19\"],\n",
    "              ) )"
   ]
  },
  {
   "cell_type": "markdown",
   "id": "16616e9e-92ae-49a2-a89a-8781e74ac07b",
   "metadata": {},
   "source": [
    "### Test Statistics:\n",
    "- **Mann-Whitney U Statistic:** **6,787.5**  \n",
    "- **p-value:** **0.0000126**\n",
    "\n",
    "---\n",
    "\n",
    "### **Interpretation:**\n",
    "\n",
    "1. **p-value:**  \n",
    "   The p-value (**0.0000126**) is significantly smaller than the conventional significance threshold (\\(\\alpha = 0.05\\)). This indicates that there is a **statistically significant difference** in the total healthcare expenditures (`TOTEXP16`) between individuals **with hypertension** and **without hypertension**.\n",
    "\n",
    "2. **Test Choice (Mann-Whitney Test):**  \n",
    "   The Mann-Whitney test was selected because the data for both groups was found to be **not normally distributed**, as evidenced by:\n",
    "   - High skewness values for both groups (4.27 and 3.06, respectively).\n",
    "   - Excessive kurtosis values (24.17 and 9.12, respectively).\n",
    "   - Visual inspection of histograms likely confirmed non-normality.  \n",
    "   The Mann-Whitney test is an appropriate non-parametric alternative for comparing the distributions or medians of two independent groups when the assumption of normality is violated.\n",
    "\n",
    "3. **Conclusion:**  \n",
    "   The test confirms a significant difference in healthcare expenditures between the two groups. Individuals **with hypertension** tend to incur **higher healthcare expenditures**, consistent with descriptive statistics such as a higher mean and median for the hypertension group.\n",
    "\n",
    "4. **Impact of Skewness and Kurtosis:**  \n",
    "   The high skewness and kurtosis values in both distributions indicate the presence of outliers or extreme values, particularly in the hypertension group. These outliers amplify the observed difference in expenditures, reflecting the substantial healthcare burden for managing chronic conditions like hypertension.\n",
    "\n",
    "---\n",
    "\n",
    "### **Final Statement:**\n",
    "The Mann-Whitney U test confirms a statistically significant difference in total healthcare expenditures between individuals **with hypertension** and **without hypertension**. The significantly lower p-value underscores this conclusion, reinforcing the notion that individuals with hypertension typically face a greater financial burden due to the costs of treatment, medications, and management of related complications."
   ]
  },
  {
   "cell_type": "markdown",
   "id": "0ec6114e-53dc-416b-b82a-61380061494d",
   "metadata": {},
   "source": [
    "# HIBPDX vs PERWT19F"
   ]
  },
  {
   "cell_type": "code",
   "execution_count": 26,
   "id": "7d05cfbc-2bd2-42a5-867a-50c7b13f577c",
   "metadata": {},
   "outputs": [
    {
     "data": {
      "text/plain": [
       "count      100.000000\n",
       "mean     10815.088138\n",
       "std       6250.815738\n",
       "min          0.000000\n",
       "25%       6509.891157\n",
       "50%       9945.057988\n",
       "75%      13515.415773\n",
       "max      32165.937980\n",
       "Name: PERWT19F, dtype: float64"
      ]
     },
     "execution_count": 26,
     "metadata": {},
     "output_type": "execute_result"
    }
   ],
   "source": [
    "sample_with_hyper_tension[\"PERWT19F\"].describe()"
   ]
  },
  {
   "cell_type": "code",
   "execution_count": 27,
   "id": "0574c4e4-3ff9-47cb-96fd-b86867f704bc",
   "metadata": {},
   "outputs": [
    {
     "name": "stdout",
     "output_type": "stream",
     "text": [
      "Mean 10815.08813821\n",
      "Median 9945.057988\n",
      "Max 32165.93798\n",
      "Min 0.0\n"
     ]
    }
   ],
   "source": [
    "print(\"Mean\",sample_with_hyper_tension[\"PERWT19F\"].mean())\n",
    "print(\"Median\",sample_with_hyper_tension[\"PERWT19F\"].median())\n",
    "print(\"Max\",sample_with_hyper_tension[\"PERWT19F\"].max())\n",
    "print(\"Min\",sample_with_hyper_tension[\"PERWT19F\"].min())"
   ]
  },
  {
   "cell_type": "code",
   "execution_count": 28,
   "id": "e8604b40-e571-454a-a4cc-df83de32c8a6",
   "metadata": {},
   "outputs": [
    {
     "name": "stdout",
     "output_type": "stream",
     "text": [
      "32165.93798\n"
     ]
    }
   ],
   "source": [
    "## calculate range\n",
    "rg = sample_with_hyper_tension[\"PERWT19F\"].max() - sample_with_hyper_tension[\"PERWT19F\"].min() \n",
    "print(rg)"
   ]
  },
  {
   "cell_type": "code",
   "execution_count": 29,
   "id": "129f8380-3be9-49a9-95f7-bb518a61850c",
   "metadata": {},
   "outputs": [
    {
     "name": "stdout",
     "output_type": "stream",
     "text": [
      "7005.5246155\n"
     ]
    }
   ],
   "source": [
    "## calculate interquartile range\n",
    "iqr = sample_with_hyper_tension[\"PERWT19F\"].quantile(0.75) - sample_with_hyper_tension[\"PERWT19F\"].quantile(0.25) \n",
    "print(iqr)"
   ]
  },
  {
   "cell_type": "code",
   "execution_count": 30,
   "id": "bab27cf6-6f94-4999-a3e8-45ce25bdb93a",
   "metadata": {},
   "outputs": [
    {
     "data": {
      "text/plain": [
       "count      100.000000\n",
       "mean      9707.879072\n",
       "std       7099.090929\n",
       "min          0.000000\n",
       "25%       4845.295981\n",
       "50%       7431.336589\n",
       "75%      13062.603100\n",
       "max      34159.086420\n",
       "Name: PERWT19F, dtype: float64"
      ]
     },
     "execution_count": 30,
     "metadata": {},
     "output_type": "execute_result"
    }
   ],
   "source": [
    "sample_with_no_hyper_tension[\"PERWT19F\"].describe()"
   ]
  },
  {
   "cell_type": "code",
   "execution_count": 31,
   "id": "854336b4-b6d4-455a-829a-885af4e505e2",
   "metadata": {},
   "outputs": [
    {
     "name": "stdout",
     "output_type": "stream",
     "text": [
      "Mean 9707.879072000002\n",
      "Median 7431.3365895\n",
      "Max 34159.08642\n",
      "Min 0.0\n"
     ]
    }
   ],
   "source": [
    "print(\"Mean\",sample_with_no_hyper_tension[\"PERWT19F\"].mean())\n",
    "print(\"Median\",sample_with_no_hyper_tension[\"PERWT19F\"].median())\n",
    "print(\"Max\",sample_with_no_hyper_tension[\"PERWT19F\"].max())\n",
    "print(\"Min\",sample_with_no_hyper_tension[\"PERWT19F\"].min())"
   ]
  },
  {
   "cell_type": "code",
   "execution_count": 32,
   "id": "feac3ffa-aaef-4316-9dc0-0c8a981f7de9",
   "metadata": {},
   "outputs": [
    {
     "name": "stdout",
     "output_type": "stream",
     "text": [
      "34159.08642\n"
     ]
    }
   ],
   "source": [
    "## calculate range\n",
    "rg = sample_with_no_hyper_tension[\"PERWT19F\"].max() - sample_with_no_hyper_tension[\"PERWT19F\"].min() \n",
    "print(rg)"
   ]
  },
  {
   "cell_type": "code",
   "execution_count": 33,
   "id": "e401a698-f97f-4581-a596-7e1d67f83618",
   "metadata": {},
   "outputs": [
    {
     "name": "stdout",
     "output_type": "stream",
     "text": [
      "8217.307119000001\n"
     ]
    }
   ],
   "source": [
    "## calculate interquartile range\n",
    "iqr = sample_with_no_hyper_tension[\"PERWT19F\"].quantile(0.75) - sample_with_no_hyper_tension[\"PERWT19F\"].quantile(0.25) \n",
    "print(iqr)"
   ]
  },
  {
   "cell_type": "code",
   "execution_count": 52,
   "id": "9e1a15e1-c87f-4635-8f79-8f12211cc225",
   "metadata": {},
   "outputs": [
    {
     "data": {
      "image/png": "[encoded data removed]",
      "text/plain": [
       "<Figure size 1200x800 with 1 Axes>"
      ]
     },
     "metadata": {},
     "output_type": "display_data"
    }
   ],
   "source": [
    "# !pip3 install matplotlib\n",
    "# !pip3 install numpy\n",
    "import matplotlib.pyplot as plt\n",
    "import numpy as np\n",
    "#plt.style.use('seaborn-deep')\n",
    "\n",
    "## set the minimum value from two groups\n",
    "if sample_with_hyper_tension[\"PERWT19F\"].min() < sample_with_no_hyper_tension[\"PERWT19F\"].min() :\n",
    "    min_val = sample_with_hyper_tension[\"PERWT19F\"].min() \n",
    "else:\n",
    "    min_val = sample_with_no_hyper_tension[\"PERWT19F\"].min() \n",
    "\n",
    "## set the maximum value from two groups \n",
    "if sample_with_hyper_tension[\"PERWT19F\"].max() > sample_with_no_hyper_tension[\"PERWT19F\"].max() :\n",
    "    max_val = sample_with_hyper_tension[\"PERWT19F\"].max() \n",
    "else:\n",
    "    max_val = sample_with_no_hyper_tension[\"PERWT19F\"].max() \n",
    "\n",
    "## set the range and number of bins\n",
    "bins = np.linspace(min_val - 10, max_val + 10, 30)\n",
    "\n",
    "## set data\n",
    "x = sample_with_hyper_tension[\"PERWT19F\"]\n",
    "y = sample_with_no_hyper_tension[\"PERWT19F\"]\n",
    "\n",
    "## draw histograms\n",
    "plt.figure(figsize=(12, 8))\n",
    "plt.hist([x, y], bins, label=['No HyperTension', 'HyperTension'])\n",
    "plt.legend(loc='upper right')\n",
    "plt.show()"
   ]
  },
  {
   "cell_type": "code",
   "execution_count": 53,
   "id": "922e1e2a-9d37-41b2-ba27-c11e7764634a",
   "metadata": {},
   "outputs": [
    {
     "data": {
      "text/plain": [
       "[Text(1, 0, 'Hypertension'), Text(2, 0, 'No HyperTension')]"
      ]
     },
     "execution_count": 53,
     "metadata": {},
     "output_type": "execute_result"
    },
    {
     "data": {
      "image/png": "[encoded data removed]",
      "text/plain": [
       "<Figure size 1200x800 with 1 Axes>"
      ]
     },
     "metadata": {},
     "output_type": "display_data"
    }
   ],
   "source": [
    "# set data\n",
    "my_dict = {'Hypertension': x, 'No HyperTension': y}\n",
    "\n",
    "from matplotlib import gridspec\n",
    "\n",
    "## draw boxplots\n",
    "fig, ax = plt.subplots(figsize=(12, 8))\n",
    "ax.boxplot(my_dict.values())\n",
    "ax.set_xticklabels(my_dict.keys())"
   ]
  },
  {
   "cell_type": "markdown",
   "id": "da63ab7c-d07f-4400-90db-051e0dea9a54",
   "metadata": {},
   "source": [
    "### Analysis of Person Weight (PERWT19F) for Individuals With and Without Hypertension\n",
    "\n",
    "The data demonstrates differences in the **Person Weight (PERWT19F)** variable between individuals diagnosed with hypertension and those without it. Key observations are as follows:\n",
    "\n",
    "---\n",
    "\n",
    "### **1. Higher Central Tendency in the Hypertension Group**\n",
    "- **Mean**: Individuals with hypertension have a slightly higher average weight (**10,815.09**) compared to those without hypertension (**9,707.88**).\n",
    "- **Median**: The median weight for the hypertension group is also higher (**9,945.06**) than for the non-hypertension group (**7,431.34**).\n",
    "  - This suggests that individuals with hypertension tend to have higher body weight overall, which aligns with the known correlation between obesity and hypertension.\n",
    "\n",
    "---\n",
    "\n",
    "### **2. Expenditure Distribution Differences**\n",
    "- **Interquartile Range (IQR)**:\n",
    "  - The **IQR for the hypertension group is $7,005.52**, indicating variability in weight across the middle 50% of individuals.\n",
    "  - The **IQR for the non-hypertension group is $8,217.31**, which is slightly larger than the hypertension group. This suggests more variability in weights among individuals without hypertension.\n",
    "- These differences reflect broader distributions in the weight data for the non-hypertension group.\n",
    "\n",
    "---\n",
    "\n",
    "### **3. Maximum and Minimum Weights**\n",
    "- **Maximum Weight**:\n",
    "  - The maximum weight for individuals without hypertension is **34,159.09**, slightly higher than the maximum weight for individuals with hypertension (**32,165.94**).\n",
    "- **Minimum Weight**:\n",
    "  - Both groups report a minimum weight of **0**, possibly reflecting outliers or missing values in the dataset.\n",
    "\n",
    "---\n",
    "\n",
    "### **Conclusion**\n",
    "The data shows that individuals with hypertension tend to have higher weights (mean and median) compared to those without hypertension, reinforcing the well-documented link between excess weight and the risk of developing hypertension. However, the wider variability in the non-hypertension group (as indicated by a larger IQR) suggests that individuals without hypertension may include a broader range of weights, including both very low and very high values.\n",
    "\n",
    "This analysis highlights the importance of weight management as a preventive strategy for hypertension. Addressing obesity through public health interventions, education, and access to healthcare resources can help reduce the prevalence of hypertension and its associated health risks."
   ]
  },
  {
   "cell_type": "code",
   "execution_count": 54,
   "id": "954304f8-eaef-473e-8730-1247e3fbaf88",
   "metadata": {},
   "outputs": [
    {
     "data": {
      "image/png": "[encoded data removed]",
      "text/plain": [
       "<Figure size 640x480 with 1 Axes>"
      ]
     },
     "metadata": {},
     "output_type": "display_data"
    }
   ],
   "source": [
    "# draw a histogram (sample with hypertension)\n",
    "count, bins, ignored = plt.hist(x, 20, density=True, color=(0.1, 0.1, 0.1, 0.1), edgecolor=\"black\")\n",
    "\n",
    "sigma = x.std()\n",
    "mu = x.mean()\n",
    "\n",
    "## draw a gausian distribution\n",
    "plt.plot(bins, 1/(sigma * np.sqrt(2 * np.pi)) *\n",
    "                np.exp( - (bins - mu)**2 / (2 * sigma**2)),\n",
    "                linewidth=2, color='b')\n",
    "plt.show()"
   ]
  },
  {
   "cell_type": "code",
   "execution_count": 55,
   "id": "65666717-5ac9-4e9d-859c-6cde2e0ef7f2",
   "metadata": {},
   "outputs": [
    {
     "data": {
      "image/png": "[encoded data removed]",
      "text/plain": [
       "<Figure size 640x480 with 1 Axes>"
      ]
     },
     "metadata": {},
     "output_type": "display_data"
    }
   ],
   "source": [
    "# draw a histogram (sample without hypertension)\n",
    "count, bins, ignored = plt.hist(x, 20, density=True, color=(0.1, 0.1, 0.1, 0.1), edgecolor=\"black\")\n",
    "\n",
    "sigma = y.std()\n",
    "mu = y.mean()\n",
    "\n",
    "## draw a gausian distribution\n",
    "plt.plot(bins, 1/(sigma * np.sqrt(2 * np.pi)) *\n",
    "                np.exp( - (bins - mu)**2 / (2 * sigma**2)),\n",
    "                linewidth=2, color='b')\n",
    "plt.show()"
   ]
  },
  {
   "cell_type": "code",
   "execution_count": 38,
   "id": "db125f07-fbf8-493c-8957-c2a05b6b104f",
   "metadata": {},
   "outputs": [
    {
     "name": "stdout",
     "output_type": "stream",
     "text": [
      "Skewness 0.8529272686246646\n",
      "Kurtosis 0.9519599268283927\n"
     ]
    }
   ],
   "source": [
    "# Sample with hypertension\n",
    "print('Skewness',x.skew())\n",
    "print('Kurtosis',x.kurtosis())"
   ]
  },
  {
   "cell_type": "code",
   "execution_count": 39,
   "id": "b7e60bc5-3c37-42c9-ac49-1e071f6b42a2",
   "metadata": {},
   "outputs": [
    {
     "name": "stdout",
     "output_type": "stream",
     "text": [
      "Skewness 1.8107652620588948\n",
      "Kurtosis 3.753534412582344\n"
     ]
    }
   ],
   "source": [
    "# Sample without hypertension\n",
    "print('Skewness',y.skew())\n",
    "print('Kurtosis',y.kurtosis())"
   ]
  },
  {
   "cell_type": "markdown",
   "id": "9621cbda-59f3-4e79-876f-17dd507e9ae2",
   "metadata": {},
   "source": [
    "### **Analysis of Normality for Samples With and Without Hypertension**\n",
    "\n",
    "The samples (individuals with and without hypertension) show deviations from normality but to differing extents. Here is the detailed rationale:\n",
    "\n",
    "---\n",
    "\n",
    "### **1. Skewness**\n",
    "- **Hypertension Group**:\n",
    "  - Skewness is **0.85**, indicating a mild right skew (positive skew). While this is less extreme than a value of **±1**, it still deviates slightly from the perfect symmetry of a normal distribution.\n",
    "- **Non-Hypertension Group**:\n",
    "  - Skewness is **1.81**, reflecting a stronger right skew compared to the hypertension group. This skew suggests a notable concentration of lower values with a long tail extending toward higher values.\n",
    "\n",
    "---\n",
    "\n",
    "### **2. Kurtosis**\n",
    "- **Hypertension Group**:\n",
    "  - Kurtosis is **0.95**, which is close to that of a normal distribution (\\(3\\)). This indicates that the distribution has moderate tails and no excessive peak, resembling a fairly normal shape.\n",
    "- **Non-Hypertension Group**:\n",
    "  - Kurtosis is **3.75**, slightly leptokurtic, indicating heavier tails and a sharper peak compared to a normal distribution.\n",
    "\n",
    "---\n",
    "\n",
    "### **3. Visual Evidence**:\n",
    "- The distributions for both groups are likely to show:\n",
    "  - **Hypertension Group**:\n",
    "    - A shape close to normal with mild skewness and reasonable tail behavior.\n",
    "  - **Non-Hypertension Group**:\n",
    "    - A more prominent right tail due to the higher skewness and sharper peak from the leptokurtic nature.\n",
    "\n",
    "---\n",
    "\n",
    "### **Conclusion**\n",
    "The two groups differ in their degrees of normality:\n",
    "- The **hypertension group** shows a distribution that is closer to normal, with mild skewness and kurtosis values indicating balanced tails and peak.\n",
    "- The **non-hypertension group**, however, exhibits stronger right skewness and heavier tails, leading to a less normal distribution.\n",
    "\n",
    "Given these findings:\n",
    "- Parametric tests (e.g., t-tests, ANOVA) may be appropriate for the hypertension group but could yield biased results for the non-hypertension group due to its greater skewness and kurtosis.\n",
    "- **Non-parametric tests** (e.g., Mann-Whitney U test) would be safer for comparing these groups, particularly given the evident non-normality of the non-hypertension group.\n",
    "\n",
    "This analysis suggests that individuals without hypertension exhibit greater variability and extremities in person weight, which may reflect a more heterogeneous population compared to the hypertension group."
   ]
  },
  {
   "cell_type": "code",
   "execution_count": 40,
   "id": "39311293-bed8-4292-bb37-e9c88f9295d9",
   "metadata": {},
   "outputs": [
    {
     "name": "stdout",
     "output_type": "stream",
     "text": [
      "MannwhitneyuResult(statistic=np.float64(5891.0), pvalue=np.float64(0.02954914328802396))\n"
     ]
    }
   ],
   "source": [
    "## We will apply the Mann-Whitney test\n",
    "\n",
    "from scipy.stats import mannwhitneyu\n",
    "\n",
    "\n",
    "print( mannwhitneyu (sample_with_hyper_tension[\"PERWT19F\"],\n",
    "                  sample_with_no_hyper_tension[\"PERWT19F\"],\n",
    "              ) )"
   ]
  },
  {
   "cell_type": "markdown",
   "id": "f5842fde-3963-4278-9727-361131ea95df",
   "metadata": {},
   "source": [
    "### **Test Statistics:**\n",
    "- **Mann-Whitney U Statistic:** **5,891.0**  \n",
    "- **p-value:** **0.0295**\n",
    "\n",
    "---\n",
    "\n",
    "### **Interpretation:**\n",
    "\n",
    "1. **p-value:**  \n",
    "   The p-value (**0.0295**) is smaller than the standard significance threshold (\\(\\alpha = 0.05\\)). This indicates a **statistically significant difference** in the distributions of the variable under consideration between the two groups (e.g., individuals with and without hypertension).\n",
    "\n",
    "2. **Test Choice (Mann-Whitney Test):**  \n",
    "   The Mann-Whitney U test was selected because the data for the two groups is **not normally distributed**, based on earlier evidence such as:\n",
    "   - Skewness and kurtosis values deviating from normality.\n",
    "   - The Mann-Whitney test is a non-parametric test suitable for comparing the medians (or distributions) of two independent groups when the assumption of normality is violated.\n",
    "\n",
    "3. **Conclusion:**  \n",
    "   The test confirms that there is a statistically significant difference between the two groups. The direction of the difference can be inferred from descriptive statistics, but generally:\n",
    "   - If the variable represents a measure such as expenditures or weights, the group with higher rank sums likely has systematically higher values.\n",
    "\n",
    "4. **Practical Implications:**  \n",
    "   The significant result implies that the two groups (e.g., with and without hypertension) differ meaningfully in the variable being tested. This difference may reflect underlying factors, such as healthcare needs, risk profiles, or treatment regimens associated with the condition being analyzed.\n",
    "\n",
    "---\n",
    "\n",
    "### **Final Statement:**\n",
    "The Mann-Whitney U test provides evidence of a statistically significant difference (\\(p = 0.0295\\)) between the two groups. This supports the conclusion that the groups are not equivalent in the variable being compared, with implications depending on the specific context (e.g., healthcare expenditures, person weight, or another measure). Further investigation may explore the factors driving this difference."
   ]
  },
  {
   "cell_type": "markdown",
   "id": "2128f047-4ab8-4128-84f1-62684cf4b603",
   "metadata": {},
   "source": [
    "# HIBPDX vs DIABDX_M18"
   ]
  },
  {
   "cell_type": "code",
   "execution_count": 41,
   "id": "6b498d79-8bbe-43f9-9bfa-8c9b3ee98ad6",
   "metadata": {},
   "outputs": [
    {
     "name": "stdout",
     "output_type": "stream",
     "text": [
      "Chi-square Statistic: 9.012692738966326\n",
      "p-value: 0.0026811112507530727\n",
      "Degrees of Freedom: 1\n",
      "Expected Frequencies: [[1481.78768021 3826.21231979]\n",
      " [   9.21231979   23.78768021]]\n"
     ]
    }
   ],
   "source": [
    "from scipy.stats import chi2_contingency\n",
    "\n",
    "# Example contingency table\n",
    "contingency_table = pd.crosstab(hyper_tension_df['HIBPDX'], hyper_tension_df['DIABDX_M18'])\n",
    "\n",
    "# Perform Chi-square test\n",
    "chi2_stat, p_val, dof, expected = chi2_contingency(contingency_table)\n",
    "\n",
    "print(\"Chi-square Statistic:\", chi2_stat)\n",
    "print(\"p-value:\", p_val)\n",
    "print(\"Degrees of Freedom:\", dof)\n",
    "print(\"Expected Frequencies:\", expected)"
   ]
  },
  {
   "cell_type": "markdown",
   "id": "786773ae-1a6a-408a-9c31-b33623008031",
   "metadata": {},
   "source": [
    "Here’s the explanation of the **Chi-square test** results based on the provided output:\n",
    "\n",
    "---\n",
    "\n",
    "### **Chi-square Test Overview**\n",
    "The Chi-square test examines whether there is an association between two categorical variables, in this case:\n",
    "- **`HIBPDX` (Hypertension diagnosis: 1 = Yes, 2 = No)**\n",
    "- **`DIABDX_M18` (Diabetes diagnosis: 1 = Yes, 2 = No)**\n",
    "\n",
    "The null hypothesis (\\(H_0\\)) for the Chi-square test states:\n",
    "> There is **no association** between hypertension and diabetes diagnoses (the variables are independent).\n",
    "\n",
    "The alternative hypothesis (\\(H_a\\)) states:\n",
    "> There **is an association** between hypertension and diabetes diagnoses (the variables are not independent).\n",
    "\n",
    "---\n",
    "\n",
    "### **Chi-square Test Results**\n",
    "\n",
    "1. **Chi-square Statistic: `9.0127`**\n",
    "   - This is the test statistic that quantifies the difference between the observed and expected frequencies in the contingency table.\n",
    "   - A higher value indicates a greater difference and provides stronger evidence against the null hypothesis.\n",
    "\n",
    "2. **p-value: `0.00268`**\n",
    "   - The p-value represents the probability of observing a test statistic as extreme as `9.0127` under the null hypothesis.\n",
    "   - Since the p-value (**0.00268**) is much smaller than the significance level (\\(\\alpha = 0.05\\)), we reject the null hypothesis. This suggests that there is a **statistically significant association** between hypertension and diabetes diagnoses.\n",
    "\n",
    "3. **Degrees of Freedom: `1`**\n",
    "   - Degrees of freedom (\\(df\\)) are calculated as:\n",
    "     \\[\n",
    "     df = (\\text{number of rows} - 1) \\times (\\text{number of columns} - 1)\n",
    "     \\]\n",
    "     Here, the contingency table has 2 rows (hypertension: yes/no) and 2 columns (diabetes: yes/no), so:\n",
    "     \\[\n",
    "     df = (2-1) \\times (2-1) = 1\n",
    "     \\]\n",
    "\n",
    "4. **Expected Frequencies:**\n",
    "   - These are the frequencies we would expect in each cell of the contingency table if there were no association between hypertension and diabetes.\n",
    "   - The expected frequencies matrix:\n",
    "     ```\n",
    "     [[1481.78768021 3826.21231979]  # Hypertension = Yes\n",
    "      [   9.21231979   23.78768021]] # Hypertension = No\n",
    "     ```\n",
    "     - Example interpretation: If there were no association, we would expect **1481.79 individuals** with both hypertension and diabetes.\n",
    "\n",
    "---\n",
    "\n",
    "### **Interpreting the Results**\n",
    "\n",
    "#### **1. Statistical Significance:**\n",
    "- The p-value (\\(0.00268\\)) is less than the significance level (\\(\\alpha = 0.05\\)).\n",
    "- **Conclusion**: There is a statistically significant association between hypertension and diabetes diagnoses. In other words, individuals with hypertension are more likely to have diabetes (or vice versa).\n",
    "\n",
    "#### **2. Practical Implications:**\n",
    "- This finding indicates a potential link between hypertension and diabetes, which aligns with existing medical knowledge that hypertension and diabetes often coexist as part of metabolic syndrome or related health conditions.\n",
    "- Healthcare providers should consider monitoring patients with one condition for the presence of the other to improve management and outcomes.\n",
    "\n",
    "#### **3. Differences Between Observed and Expected Frequencies:**\n",
    "- The Chi-square test detected significant differences between the observed counts in your data and what would be expected under the null hypothesis.\n",
    "- The test statistic \\(9.0127\\) quantifies this difference, showing a strong deviation from independence.\n",
    "\n",
    "---\n",
    "\n",
    "### **Final Statement**\n",
    "The Chi-square test revealed a significant association between hypertension and diabetes diagnoses (\\(p = 0.00268\\)). This suggests that hypertension and diabetes are not independent, and individuals with one condition are more likely to have the other."
   ]
  },
  {
   "cell_type": "markdown",
   "id": "3d14cb2f-7e7e-4693-bb50-1043702d69d5",
   "metadata": {},
   "source": [
    "# HIBPDX VS STRKDX"
   ]
  },
  {
   "cell_type": "code",
   "execution_count": 42,
   "id": "616db029-8bd5-41b6-ba43-23042c913888",
   "metadata": {},
   "outputs": [
    {
     "name": "stdout",
     "output_type": "stream",
     "text": [
      "Chi-square Statistic: 1.3433874680842117\n",
      "p-value: 0.24643746373950792\n",
      "Degrees of Freedom: 1\n",
      "Expected Frequencies: [[5.72441116e+02 4.73555888e+03]\n",
      " [3.55888410e+00 2.94411159e+01]]\n"
     ]
    }
   ],
   "source": [
    "from scipy.stats import chi2_contingency\n",
    "\n",
    "# Example contingency table\n",
    "contingency_table = pd.crosstab(hyper_tension_df['HIBPDX'], hyper_tension_df['STRKDX'])\n",
    "\n",
    "# Perform Chi-square test\n",
    "chi2_stat, p_val, dof, expected = chi2_contingency(contingency_table)\n",
    "\n",
    "print(\"Chi-square Statistic:\", chi2_stat)\n",
    "print(\"p-value:\", p_val)\n",
    "print(\"Degrees of Freedom:\", dof)\n",
    "print(\"Expected Frequencies:\", expected)"
   ]
  },
  {
   "cell_type": "markdown",
   "id": "18b6b80a-18f6-4f1a-a883-2a7f7aa7e170",
   "metadata": {},
   "source": [
    "### **Chi-square Test Explanation**\n",
    "\n",
    "The **Chi-square test** evaluates whether there is a significant association between two categorical variables. For the provided results, the variables are:\n",
    "- **`HIBPDX` (Hypertension diagnosis: 1 = Yes, 2 = No)**  \n",
    "- **`STRKDX` (Stroke diagnosis: 1 = Yes, 2 = No)**  \n",
    "\n",
    "The null hypothesis (\\(H_0\\)) states:\n",
    "> There is **no association** between hypertension and stroke diagnoses (the variables are independent).\n",
    "\n",
    "The alternative hypothesis (\\(H_a\\)) states:\n",
    "> There **is an association** between hypertension and stroke diagnoses (the variables are not independent).\n",
    "\n",
    "---\n",
    "\n",
    "### **Chi-square Test Results**\n",
    "\n",
    "1. **Chi-square Statistic: `1.3434`**\n",
    "   - This statistic measures the difference between observed and expected frequencies. A higher value indicates a greater departure from independence.\n",
    "   - In this case, the value is relatively low, suggesting a weak difference.\n",
    "\n",
    "2. **p-value: `0.2464`**\n",
    "   - The p-value quantifies the probability of observing a test statistic as extreme as `1.3434` under the null hypothesis.\n",
    "   - Since the p-value (**0.2464**) is greater than the significance level (\\(\\alpha = 0.05\\)), we fail to reject the null hypothesis. This indicates **no statistically significant association** between hypertension and stroke diagnoses.\n",
    "\n",
    "3. **Degrees of Freedom: `1`**\n",
    "   - Degrees of freedom are calculated as:\n",
    "     \\[\n",
    "     df = (\\text{number of rows} - 1) \\times (\\text{number of columns} - 1)\n",
    "     \\]\n",
    "     Here, there are 2 rows (hypertension: yes/no) and 2 columns (stroke: yes/no):\n",
    "     \\[\n",
    "     df = (2-1) \\times (2-1) = 1\n",
    "     \\]\n",
    "\n",
    "4. **Expected Frequencies:**\n",
    "   - These are the frequencies we would expect in each cell of the contingency table if there were no association between the variables. The expected frequencies are:\n",
    "     ```\n",
    "     [[572.44  4735.56 ]  # Hypertension = Yes\n",
    "      [  3.56    29.44 ]] # Hypertension = No\n",
    "     ```\n",
    "     - For example, if hypertension and stroke were independent, we would expect approximately **572.44 individuals** with both hypertension and no stroke.\n",
    "\n",
    "---\n",
    "\n",
    "### **Interpreting the Results**\n",
    "\n",
    "#### **1. Statistical Significance:**\n",
    "- The p-value (\\(0.2464\\)) is greater than the conventional significance threshold (\\(\\alpha = 0.05\\)).\n",
    "- **Conclusion**: There is no statistically significant association between hypertension and stroke diagnoses. This suggests that having hypertension does not significantly increase the likelihood of having a stroke in this dataset.\n",
    "\n",
    "#### **2. Practical Implications:**\n",
    "- Although hypertension is a known risk factor for stroke, this particular analysis does not find strong statistical evidence to support a direct association in the observed dataset.\n",
    "- It is possible that the relationship is influenced by other confounding variables (e.g., age, lifestyle factors) that were not accounted for in this test.\n",
    "\n",
    "#### **3. Observed vs. Expected Frequencies:**\n",
    "- The Chi-square test found that the observed counts are close to the expected counts under the null hypothesis. For example:\n",
    "  - Observed frequencies for hypertension and stroke are approximately what would be expected if the variables were independent.\n",
    "\n",
    "---\n",
    "\n",
    "### **Final Statement**\n",
    "The Chi-square test results (\\(p = 0.2464\\)) indicate no significant association between hypertension and stroke diagnoses. This suggests that, within this dataset, hypertension and stroke appear to be independent. Further investigation, incorporating additional variables or using alternative statistical methods, may provide more insights into this relationship."
   ]
  },
  {
   "cell_type": "markdown",
   "id": "5ae83b7e-fdf4-4be2-895c-446118947fff",
   "metadata": {},
   "source": [
    "# HIBPDX VS CHDDX"
   ]
  },
  {
   "cell_type": "code",
   "execution_count": 43,
   "id": "156bb0ca-30aa-47da-8efb-b25a3db51526",
   "metadata": {},
   "outputs": [
    {
     "name": "stdout",
     "output_type": "stream",
     "text": [
      "Chi-square Statistic: 4.172063062667999\n",
      "p-value: 0.04109573020505741\n",
      "Degrees of Freedom: 1\n",
      "Expected Frequencies: [[7.27477251e+02 4.58052275e+03]\n",
      " [4.52274855e+00 2.84772515e+01]]\n"
     ]
    }
   ],
   "source": [
    "from scipy.stats import chi2_contingency\n",
    "\n",
    "# Example contingency table\n",
    "contingency_table = pd.crosstab(hyper_tension_df['HIBPDX'], hyper_tension_df['CHDDX'])\n",
    "\n",
    "# Perform Chi-square test\n",
    "chi2_stat, p_val, dof, expected = chi2_contingency(contingency_table)\n",
    "\n",
    "print(\"Chi-square Statistic:\", chi2_stat)\n",
    "print(\"p-value:\", p_val)\n",
    "print(\"Degrees of Freedom:\", dof)\n",
    "print(\"Expected Frequencies:\", expected)"
   ]
  },
  {
   "cell_type": "markdown",
   "id": "966c1005-7f03-4d13-8dcd-1181c103b925",
   "metadata": {},
   "source": [
    "\n",
    "### **Interpretation of Results**\n",
    "\n",
    "#### **1. Statistical Significance:**\n",
    "- The p-value (**0.0411**) indicates a statistically significant association between hypertension and coronary heart disease.\n",
    "- This means individuals with hypertension are more likely to have coronary heart disease (or vice versa).\n",
    "\n",
    "#### **2. Practical Implications:**\n",
    "- The significant association aligns with medical knowledge that hypertension is a major risk factor for coronary heart disease.  \n",
    "- Clinicians and healthcare providers should monitor patients with hypertension for signs of coronary heart disease to improve early diagnosis and treatment outcomes.\n",
    "\n",
    "#### **3. Observed vs. Expected Frequencies:**\n",
    "- The observed counts deviate enough from the expected counts to result in a significant Chi-square statistic.\n",
    "- The observed association suggests that the relationship between hypertension and coronary heart disease is not due to random chance.\n",
    "\n",
    "---\n",
    "\n",
    "### **Final Statement**\n",
    "The Chi-square test (\\(\\chi^2 = 4.1721\\), \\(p = 0.0411\\)) reveals a statistically significant association between hypertension and coronary heart disease diagnoses. This finding underscores the importance of monitoring and managing coronary health in hypertensive patients to mitigate the risks of cardiovascular complications."
   ]
  },
  {
   "cell_type": "code",
   "execution_count": null,
   "id": "882f1060-e2ae-4a0f-a05f-ec12c494e531",
   "metadata": {},
   "outputs": [],
   "source": []
  }
 ],
 "metadata": {
  "kernelspec": {
   "display_name": "Python [conda env:base] *",
   "language": "python",
   "name": "conda-base-py"
  },
  "language_info": {
   "codemirror_mode": {
    "name": "ipython",
    "version": 3
   },
   "file_extension": ".py",
   "mimetype": "text/x-python",
   "name": "python",
   "nbconvert_exporter": "python",
   "pygments_lexer": "ipython3",
   "version": "3.12.7"
  }
 },
 "nbformat": 4,
 "nbformat_minor": 5
}
